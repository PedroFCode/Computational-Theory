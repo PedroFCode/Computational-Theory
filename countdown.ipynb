{
 "cells": [
  {
   "cell_type": "markdown",
   "metadata": {},
   "source": [
    "<h2 id=\"Introduction\">Introduction<h2>\n",
    "\n",
    "<h5>Countdown is a numbers game whereby contestants are given a selection of numbers and a target number. Using only basic arithmetic operations (addition, subtraction, multiplication, and division), the contestants must try to reach the target number using only the chosen numbers. This project, done in a Jupyter Notebook, explains the game in detail and contains python code of the game being completed by solve_numbers function. The goal is to have a working version of the countdown game."
   ]
  },
  {
   "cell_type": "markdown",
   "metadata": {},
   "source": [
    "<h2 id=\"Explanation\">Explanation<h2>\n",
    "\n",
    "<h5>\n",
    "Players will have a time limit of between 30 to 60 seconds to solve this puzzle. Whatever player has the closest number to the target number will win the round. \n",
    "\n",
    "How the game works: \n",
    "\n",
    "- Players are given a selection of six numbers, usually a mix of small numbers (1-10) and large numbers (25, 50, 75, or 100).\n",
    "\n",
    "- A three-digit target number is randomly generated. Generally starts at 101 to 999. \n",
    "\n",
    "- Players have to use some or all of the six numbers (using each number once and only once) to reach the target number exactly, or as close as possible.\n",
    "\n",
    "- They can use any combination of addition, subtraction, multiplication, and division to manipulate the numbers. However at no point can the number be a fraction or decimal. Subtraction may only be used if the result is a positive number.\n"
   ]
  },
  {
   "cell_type": "markdown",
   "metadata": {},
   "source": [
    "\n",
    "<h2 id=\"Binomial_Coefficient_Formula\">Binomial Coefficient Formula<h2>\n",
    "\n",
    "<h5>\n",
    "Although the algorithm below doesn't use this formula directly, it does have many similarities. This is similar to selecting a subset of numbers from a larger set, which is essentially what combinations represent in combinatorics.\n",
    "\n",
    "- Combination of Numbers: Generates all combinations of numbers from the list. This is similar to selecting a subset of numbers from a larger set, which is essentially what combinations represent in combinatorics.\n",
    "\n",
    "- Permutations of Numbers: For each combination of numbers, it calculates the number of permutations of those numbers. This is similar to the concept of arranging items in a specific order, which is what permutations represent. In this case, the order matters because changing the order of numbers in an expression changes the result.\n",
    "\n",
    "- Permutations of Operators: For each combination of numbers, it also calculates the number of permutations of operators. Since there are four basic arithmetic operators and they can be repeated, the number of permutations of operators is calculated as 4𝑟−1 where 𝑟 is the number of numbers in the combination. This is similar to the idea of selecting a subset of items from a set with replacement, which is a concept related to permutations.\n",
    "\n",
    "- Total Count: The total number of valid expressions is calculated by multiplying the number of permutations of numbers by the number of permutations of operators for each combination of numbers. This multiplication is reminiscent of the multiplication principle in combinatorics, where the total count of outcomes is calculated by multiplying the counts of individual steps or choices."
   ]
  },
  {
   "cell_type": "code",
   "execution_count": 93,
   "metadata": {},
   "outputs": [
    {
     "name": "stdout",
     "output_type": "stream",
     "text": [
      "Total valid expressions: 946686\n"
     ]
    }
   ],
   "source": [
    "from itertools import combinations, permutations\n",
    "import math\n",
    "\n",
    "def valid_expressions(numbers):\n",
    "    total_count = 0\n",
    "    \n",
    "    # Generate all combinations of numbers\n",
    "    for r in range(1, len(numbers) + 1):\n",
    "        for number_combination in combinations(numbers, r):\n",
    "            num_count = math.factorial(r)  # Number of permutations of numbers\n",
    "            op_count = 4 ** (r - 1)         # Number of permutations of operators\n",
    "            total_count += num_count * op_count\n",
    "    \n",
    "    return total_count\n",
    "\n",
    "# Example\n",
    "numbers = [1, 9, 6, 7, 50, 100]\n",
    "total_expressions = valid_expressions(numbers)\n",
    "print(\"Total valid expressions:\", total_expressions)\n"
   ]
  },
  {
   "cell_type": "markdown",
   "metadata": {},
   "source": [
    "<h2 id=\"Calculating_For_a_target_Number\">Calculating For a Target Number<h2>\n",
    "\n",
    "<h5>\n",
    "The algorithm below finds the total valid expressions for a specified target number, although it does contain expression that do not comply with rules, i.e. the use of negative numbers. "
   ]
  },
  {
   "cell_type": "code",
   "execution_count": 97,
   "metadata": {},
   "outputs": [
    {
     "name": "stdout",
     "output_type": "stream",
     "text": [
      "Total valid expressions for target 725 : 478\n"
     ]
    }
   ],
   "source": [
    "from itertools import combinations, permutations, product\n",
    "\n",
    "def find_valid_expressions(numbers, target):\n",
    "    valid_expressions = []\n",
    "\n",
    "    # Open the file for writing due to a large possible output\n",
    "    with open(\"results.txt\", \"w\") as file:\n",
    "        # Generate all combinations of numbers\n",
    "        for r in range(1, len(numbers) + 1):\n",
    "            for number_combination in combinations(numbers, r):\n",
    "                # Generate all permutations of numbers\n",
    "                for num_permutation in permutations(number_combination):\n",
    "                    # Generate all permutations of operators\n",
    "                    for op_permutation in product('+-*/', repeat=r - 1):\n",
    "                        expression = ''.join(str(num) + op for num, op in zip(num_permutation, op_permutation))\n",
    "                        expression += str(num_permutation[-1])  # Add the last number\n",
    "                        # Evaluate the expression\n",
    "                        try:\n",
    "                            result = eval(expression)\n",
    "                            if result == target:\n",
    "                                valid_expressions.append(expression)\n",
    "                                file.write(\"Valid expression: {}\\n\".format(expression))\n",
    "                        except ZeroDivisionError:\n",
    "                            pass  # Skip division by zero errors\n",
    "\n",
    "    return valid_expressions\n",
    "\n",
    "# Example usage:\n",
    "numbers = [2, 3, 5, 7, 25, 100]\n",
    "target = 725\n",
    "valid_expressions = find_valid_expressions(numbers, target)\n",
    "print(\"Total valid expressions for target\", target, \":\", len(valid_expressions))\n"
   ]
  },
  {
   "cell_type": "markdown",
   "metadata": {},
   "source": [
    "<h2>\n",
    "\n",
    "<h5>\n",
    "Creating expressions that only use whole numbers and does not use negative numbers in their calculations, this tends to be slow but accurate."
   ]
  },
  {
   "cell_type": "code",
   "execution_count": 155,
   "metadata": {},
   "outputs": [
    {
     "name": "stdout",
     "output_type": "stream",
     "text": [
      "Generated Numbers:  [9, 6, 3, 7, 1, 5]\n",
      "Target:  135\n",
      "Total valid expressions for target 135 : 1179\n"
     ]
    }
   ],
   "source": [
    "from itertools import combinations, permutations, product\n",
    "\n",
    "def evaluate_expression(num_permutation, op_permutation):\n",
    "    # Combine numbers and operators to form the expression\n",
    "    expression = ''.join(str(num) + op for num, op in zip(num_permutation, op_permutation))\n",
    "    expression += str(num_permutation[-1])  # Add the last number\n",
    "\n",
    "    # Evaluate the expression while checking for negative intermediate results\n",
    "    nums = num_permutation + (num_permutation[-1],)  # Include last number\n",
    "    result = nums[0]\n",
    "    for i in range(len(op_permutation)):\n",
    "        op = op_permutation[i]\n",
    "        next_num = nums[i + 1]\n",
    "        if op == '+':\n",
    "            result += next_num\n",
    "        elif op == '-':\n",
    "            result -= next_num\n",
    "            if result < 0:  # Check for negative intermediate result\n",
    "                return None  # Invalid expression due to negative result\n",
    "        elif op == '*':\n",
    "            result *= next_num\n",
    "        elif op == '/':\n",
    "            if next_num == 0 or result % next_num != 0:\n",
    "                return None  # Invalid expression due to division by zero or non-integer result\n",
    "            result //= next_num  # Use integer division\n",
    "\n",
    "    return result\n",
    "\n",
    "def find_valid_expressions(numbers, target):\n",
    "    valid_expressions = []\n",
    "\n",
    "    # Open the file for writing due to a large possible output\n",
    "    with open(\"results.txt\", \"w\") as file:\n",
    "        # Generate all combinations of numbers\n",
    "        for r in range(1, len(numbers) + 1):\n",
    "            for number_combination in combinations(numbers, r):\n",
    "                # Generate all permutations of numbers\n",
    "                for num_permutation in permutations(number_combination):\n",
    "                    # Generate all permutations of operators\n",
    "                    for op_permutation in product('+-*/', repeat=r - 1):\n",
    "                        # Evaluate the expression and check for validity\n",
    "                        result = evaluate_expression(num_permutation, op_permutation)\n",
    "                        if result is not None and result == target:\n",
    "                            expression = ''.join(str(num) + op for num, op in zip(num_permutation, op_permutation))\n",
    "                            expression += str(num_permutation[-1])  # Add the last number\n",
    "                            valid_expressions.append(expression)\n",
    "                            file.write(\"Valid expression: {}\\n\".format(expression))\n",
    "\n",
    "    return valid_expressions\n",
    "\n",
    "import random\n",
    "\n",
    "def generate_numbers():\n",
    "    # Define the small numbers (1 to 10)\n",
    "    small_numbers = list(range(1, 11))\n",
    "    # Define the large numbers (25, 50, 75, 100)\n",
    "    large_numbers = [25, 50, 75, 100]\n",
    "\n",
    "    # Randomly decide how many big numbers and small numbers to generate\n",
    "    num_big_numbers = random.randint(0, 4)  # Can select 0 to 4 big numbers\n",
    "    num_small_numbers = 6 - num_big_numbers  # Remaining slots are for small numbers\n",
    "\n",
    "    # Randomly select big numbers and small numbers\n",
    "    selected_numbers = random.sample(small_numbers, num_small_numbers) + \\\n",
    "                       random.sample(large_numbers, num_big_numbers)\n",
    "\n",
    "    return selected_numbers\n",
    "\n",
    "# Generate 6 number tiles\n",
    "numbers = generate_numbers()\n",
    "print(\"Generated Numbers: \", numbers)\n",
    "\n",
    "target = random.randint(101, 999)\n",
    "print(\"Target: \", target)\n",
    "\n",
    "# Testing to see if it still runs when impossible\n",
    "# testNumbers = [2, 4, 6, 8, 10, 2]\n",
    "# testTarget = 999\n",
    "\n",
    "valid_expressions = find_valid_expressions(numbers, target)\n",
    "print(\"Total valid expressions for target\", target, \":\", len(valid_expressions))\n"
   ]
  },
  {
   "cell_type": "markdown",
   "metadata": {},
   "source": [
    "## First Attempt\n",
    "\n",
    "****"
   ]
  },
  {
   "cell_type": "code",
   "execution_count": 156,
   "metadata": {},
   "outputs": [
    {
     "name": "stdout",
     "output_type": "stream",
     "text": [
      "135+725/100 = 142\n"
     ]
    }
   ],
   "source": [
    "from itertools import permutations, product\n",
    "\n",
    "def solve_numbers(numbers, target):\n",
    "    def evaluate(expression):\n",
    "        try:\n",
    "            return int(eval(expression))\n",
    "        except ZeroDivisionError:\n",
    "            return None\n",
    "\n",
    "    def generate_expressions(nums, current_expr='', index=0):\n",
    "        if index == len(nums):\n",
    "            result = evaluate(current_expr)\n",
    "            if result == target:\n",
    "                return current_expr\n",
    "            return None\n",
    "\n",
    "        result = None\n",
    "        num = nums[index]\n",
    "        new_index = index + 1\n",
    "        result = result or generate_expressions(nums, current_expr + str(num), new_index)\n",
    "        result = result or generate_expressions(nums, current_expr + '+' + str(num), new_index)\n",
    "        result = result or generate_expressions(nums, current_expr + '-' + str(num), new_index)\n",
    "        result = result or generate_expressions(nums, current_expr + '*' + str(num), new_index)\n",
    "        if num != 0:\n",
    "            result = result or generate_expressions(nums, current_expr + '/' + str(num), new_index)\n",
    "        return result\n",
    "\n",
    "    result = generate_expressions(numbers)\n",
    "    if result:\n",
    "        return result + \" = \" + str(target)\n",
    "    else:\n",
    "        return None\n",
    "\n",
    "# Example usage:\n",
    "numbers = [1, 3, 5, 7, 25, 100]\n",
    "target = 142\n",
    "print(solve_numbers(numbers, target))\n"
   ]
  },
  {
   "cell_type": "markdown",
   "metadata": {},
   "source": [
    "<h2 id=\"References\">References<h2>\n",
    "\n",
    "<h4>\n",
    "<a href=\"http://datagenetics.com/blog/august32014/index.html\">Brute Force Approach</a>\n",
    "<br>\n",
    "<a href=\"https://en.wikipedia.org/wiki/Countdown_(game_show)\">Countdown Information</a>\n",
    "<br>\n",
    "<a href=\"https://www.youtube.com/watch?app=desktop&v=EKN51vLKves\">Binomial Coefficient Formula</a>"
   ]
  }
 ],
 "metadata": {
  "kernelspec": {
   "display_name": "base",
   "language": "python",
   "name": "python3"
  },
  "language_info": {
   "codemirror_mode": {
    "name": "ipython",
    "version": 3
   },
   "file_extension": ".py",
   "mimetype": "text/x-python",
   "name": "python",
   "nbconvert_exporter": "python",
   "pygments_lexer": "ipython3",
   "version": "3.9.18"
  }
 },
 "nbformat": 4,
 "nbformat_minor": 2
}
