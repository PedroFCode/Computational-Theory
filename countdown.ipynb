{
 "cells": [
  {
   "cell_type": "markdown",
   "metadata": {},
   "source": [
    "<h2 id=\"Introduction\">Introduction<h2>\n",
    "\n",
    "<h5>Countdown is a numbers game whereby contestants are given a selection of numbers and a target number. Using only basic arithmetic operations (addition, subtraction, multiplication, and division), the contestants must try to reach the target number using only the chosen numbers. This project, done in a Jupyter Notebook, explains the game in detail and contains python code of the game being completed by solve_numbers function. The goal is to have a working version of the countdown game."
   ]
  },
  {
   "cell_type": "markdown",
   "metadata": {},
   "source": [
    "<h2 id=\"Explanation\">Explanation<h2>\n",
    "\n",
    "<h5>\n",
    "Players will have a time limit of between 30 to 60 seconds to solve this puzzle. Whatever player has the closest number to the target number will win the round. \n",
    "\n",
    "How the game works: \n",
    "\n",
    "- Players are given a selection of six numbers, usually a mix of small numbers (1-10) and large numbers (25, 50, 75, or 100).\n",
    "\n",
    "- A three-digit target number is randomly generated. Generally starts at 101 to 999. \n",
    "\n",
    "- Players have to use some or all of the six numbers (using each number once and only once) to reach the target number exactly, or as close as possible.\n",
    "\n",
    "- They can use any combination of addition, subtraction, multiplication, and division to manipulate the numbers. However at no point can the number be a fraction or decimal.\n"
   ]
  },
  {
   "cell_type": "code",
   "execution_count": null,
   "metadata": {},
   "outputs": [],
   "source": []
  }
 ],
 "metadata": {
  "language_info": {
   "name": "python"
  }
 },
 "nbformat": 4,
 "nbformat_minor": 2
}
