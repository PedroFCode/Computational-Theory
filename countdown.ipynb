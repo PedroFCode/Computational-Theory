{
 "cells": [
  {
   "cell_type": "markdown",
   "metadata": {},
   "source": [
    "<h2 id=\"Introduction\">Introduction<h2>\n",
    "\n",
    "<h5>Countdown is a numbers game whereby contestants are given a selection of numbers and a target number. Using only basic arithmetic operations (addition, subtraction, multiplication, and division), the contestants must try to reach the target number using only the chosen numbers. This project, done in a Jupyter Notebook, explains the game in detail and contains python code of the game being completed by solve_numbers function. The goal is to have a working version of the countdown game."
   ]
  },
  {
   "cell_type": "markdown",
   "metadata": {},
   "source": [
    "<h2 id=\"Explanation\">Explanation<h2>\n",
    "\n",
    "<h5>"
   ]
  },
  {
   "cell_type": "code",
   "execution_count": null,
   "metadata": {},
   "outputs": [],
   "source": []
  }
 ],
 "metadata": {
  "language_info": {
   "name": "python"
  }
 },
 "nbformat": 4,
 "nbformat_minor": 2
}
